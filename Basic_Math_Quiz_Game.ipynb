{
 "cells": [
  {
   "cell_type": "code",
   "execution_count": 5,
   "id": "f525dcf8-cc72-49cb-b39b-b1ebee1a6773",
   "metadata": {},
   "outputs": [
    {
     "name": "stdout",
     "output_type": "stream",
     "text": [
      "_Welcome to the Basic Math Quiz Game!_\n",
      "You will be presented with math problems, and You need to provide the correct answer.\n",
      "\n",
      "Question 1: 8 - 5\n"
     ]
    },
    {
     "name": "stdin",
     "output_type": "stream",
     "text": [
      "Your answer:  4\n"
     ]
    },
    {
     "name": "stdout",
     "output_type": "stream",
     "text": [
      "wrong, Your correct answer is: 3\n",
      "\n",
      "Question 2: 8 / 2\n"
     ]
    },
    {
     "name": "stdin",
     "output_type": "stream",
     "text": [
      "Your answer:  4\n"
     ]
    },
    {
     "name": "stdout",
     "output_type": "stream",
     "text": [
      "Correct\n",
      "\n",
      "Question 3: 10 / 8\n"
     ]
    },
    {
     "name": "stdin",
     "output_type": "stream",
     "text": [
      "Your answer:  5\n"
     ]
    },
    {
     "name": "stdout",
     "output_type": "stream",
     "text": [
      "wrong, Your correct answer is: 1.25\n",
      "\n",
      "Question 4: 5 * 6\n"
     ]
    },
    {
     "name": "stdin",
     "output_type": "stream",
     "text": [
      "Your answer:  30\n"
     ]
    },
    {
     "name": "stdout",
     "output_type": "stream",
     "text": [
      "Correct\n",
      "\n",
      "Question 5: 10 * 4\n"
     ]
    },
    {
     "name": "stdin",
     "output_type": "stream",
     "text": [
      "Your answer:  40\n"
     ]
    },
    {
     "name": "stdout",
     "output_type": "stream",
     "text": [
      "Correct\n",
      "\n",
      "_Game Over!_\n",
      "Your Final Score is: 3/5\n",
      "Good Job! You did well.\n"
     ]
    }
   ],
   "source": [
    "# Basic Math Quiz Game\n",
    "import random\n",
    "\n",
    "# step_1: Define the math questions function\n",
    "def generate_questions():\n",
    "    num1 = random.randint(1,10)\n",
    "    num2 = random.randint(1,10)\n",
    "    operator = random.choice(['+','-','*','/'])\n",
    "    \n",
    "    if operator == '+':\n",
    "        answer = num1 + num2\n",
    "    elif operator == '-':\n",
    "        answer = num1 -num2\n",
    "    elif operator == '*':\n",
    "        answer = num1 * num2\n",
    "    else:\n",
    "        answer = num1 / num2\n",
    "        \n",
    "    return f\"{num1} {operator} {num2}\", answer\n",
    "\n",
    "# step_2: Main Quiz Game Function\n",
    "def math_quiz():\n",
    "    rounds = 5\n",
    "    score = 0\n",
    "    print(\"_Welcome to the Basic Math Quiz Game!_\")\n",
    "    print(\"You will be presented with math problems, and You need to provide the correct answer.\")\n",
    "    \n",
    "    for i in range(rounds):\n",
    "        question, correct_answer = generate_questions()\n",
    "        print(f\"\\nQuestion {i+1}: {question}\")\n",
    "        user_answer = int(input(\"Your answer: \"))\n",
    "        \n",
    "        if user_answer == correct_answer:\n",
    "            print(\"Correct\")\n",
    "            score += 1\n",
    "        else:\n",
    "            print(f\"wrong, Your correct answer is: {correct_answer}\")\n",
    "            \n",
    "    print(\"\\n_Game Over!_\")\n",
    "    print(f\"Your Final Score is: {score}/{rounds}\")\n",
    "    \n",
    "    if score == rounds:\n",
    "        print(\"Congratulations! You got all the questions correct.\")\n",
    "    elif score > rounds/2:\n",
    "        print(\"Good Job! You did well.\")\n",
    "    else:\n",
    "        print(\"Keep Practicing! You can better next time.\")\n",
    "\n",
    "# ste_3: call function\n",
    "math_quiz()"
   ]
  },
  {
   "cell_type": "code",
   "execution_count": null,
   "id": "0b06fc5c-ae22-4c83-9dc1-8fa04917c3b9",
   "metadata": {},
   "outputs": [],
   "source": []
  }
 ],
 "metadata": {
  "kernelspec": {
   "display_name": "Python 3 (ipykernel)",
   "language": "python",
   "name": "python3"
  },
  "language_info": {
   "codemirror_mode": {
    "name": "ipython",
    "version": 3
   },
   "file_extension": ".py",
   "mimetype": "text/x-python",
   "name": "python",
   "nbconvert_exporter": "python",
   "pygments_lexer": "ipython3",
   "version": "3.12.7"
  }
 },
 "nbformat": 4,
 "nbformat_minor": 5
}
