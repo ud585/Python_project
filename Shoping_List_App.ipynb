{
 "cells": [
  {
   "cell_type": "code",
   "execution_count": 4,
   "id": "7645d745-91cd-4c1f-87da-a5797668f1c2",
   "metadata": {},
   "outputs": [
    {
     "name": "stdout",
     "output_type": "stream",
     "text": [
      "\n",
      "__Shoping List Menu__\n",
      "1. View the shoping list\n",
      "2. Add an item\n",
      "3. Remove an item\n",
      "4. Clear list\n",
      "5. Exit\n"
     ]
    },
    {
     "name": "stdin",
     "output_type": "stream",
     "text": [
      "Enter your choice (1-5):  1\n"
     ]
    },
    {
     "name": "stdout",
     "output_type": "stream",
     "text": [
      "\n",
      "_Shoping List_\n",
      "Your shoping list is empty.\n",
      "\n",
      "__Shoping List Menu__\n",
      "1. View the shoping list\n",
      "2. Add an item\n",
      "3. Remove an item\n",
      "4. Clear list\n",
      "5. Exit\n"
     ]
    },
    {
     "name": "stdin",
     "output_type": "stream",
     "text": [
      "Enter your choice (1-5):  2\n",
      "Enter your item to add:  Apple\n"
     ]
    },
    {
     "name": "stdout",
     "output_type": "stream",
     "text": [
      "Apple has been added to your shoping list successfully!\n",
      "\n",
      "__Shoping List Menu__\n",
      "1. View the shoping list\n",
      "2. Add an item\n",
      "3. Remove an item\n",
      "4. Clear list\n",
      "5. Exit\n"
     ]
    },
    {
     "name": "stdin",
     "output_type": "stream",
     "text": [
      "Enter your choice (1-5):  1\n"
     ]
    },
    {
     "name": "stdout",
     "output_type": "stream",
     "text": [
      "\n",
      "_Shoping List_\n",
      "1. Apple\n",
      "\n",
      "__Shoping List Menu__\n",
      "1. View the shoping list\n",
      "2. Add an item\n",
      "3. Remove an item\n",
      "4. Clear list\n",
      "5. Exit\n"
     ]
    },
    {
     "name": "stdin",
     "output_type": "stream",
     "text": [
      "Enter your choice (1-5):  3\n",
      "Enter your item to remove:  apple\n"
     ]
    },
    {
     "name": "stdout",
     "output_type": "stream",
     "text": [
      "apple is not in the shoping list.\n",
      "\n",
      "__Shoping List Menu__\n",
      "1. View the shoping list\n",
      "2. Add an item\n",
      "3. Remove an item\n",
      "4. Clear list\n",
      "5. Exit\n"
     ]
    },
    {
     "name": "stdin",
     "output_type": "stream",
     "text": [
      "Enter your choice (1-5):  5\n"
     ]
    },
    {
     "name": "stdout",
     "output_type": "stream",
     "text": [
      "Goodbye! Happy shoping\n"
     ]
    }
   ],
   "source": [
    "# step_1: Initialize an empty shoping list\n",
    "shoping_list = []\n",
    "\n",
    "# step_2: Define the Main Menu\n",
    "def show_menu():\n",
    "    print(\"\\n__Shoping List Menu__\")\n",
    "    print(\"1. View the shoping list\")\n",
    "    print(\"2. Add an item\")\n",
    "    print(\"3. Remove an item\")\n",
    "    print(\"4. Clear list\")\n",
    "    print(\"5. Exit\")\n",
    "\n",
    "# step_2: Main Programm loop\n",
    "while True:\n",
    "    show_menu()\n",
    "    choice = input(\"Enter your choice (1-5): \")\n",
    "    \n",
    "    if choice == '1':\n",
    "        print(\"\\n_Shoping List_\")\n",
    "        if not shoping_list:\n",
    "            print(\"Your shoping list is empty.\")\n",
    "        else:\n",
    "            for index,item in enumerate(shoping_list):\n",
    "                print(f\"{index+1}. {item}\")\n",
    "                \n",
    "    elif choice == '2':\n",
    "        item = input(\"Enter your item to add: \")\n",
    "        shoping_list.append(item)\n",
    "        print(f\"{item} has been added to your shoping list successfully!\")\n",
    "        \n",
    "    elif choice == '3':\n",
    "        item = input(\"Enter your item to remove: \")\n",
    "        if item in shoping_list:\n",
    "            shoping_list.remove(item)\n",
    "            print(f\"{item} has been removed to the shoping list.\")\n",
    "        else:\n",
    "            print(f\"{item} is not in the shoping list.\")\n",
    "            \n",
    "    elif choice == '4':\n",
    "        shoping_list.clear()\n",
    "        print('The shoping list has been cleared.')\n",
    "        \n",
    "    elif choice == '5':\n",
    "        print(\"Goodbye! Happy shoping\")\n",
    "        break\n",
    "        \n",
    "    else:\n",
    "        print(\"Invalid Choice. Please select a valid option (1-5).\")"
   ]
  },
  {
   "cell_type": "code",
   "execution_count": null,
   "id": "52186a6f-3739-4b6c-9d42-60818e06f8af",
   "metadata": {},
   "outputs": [],
   "source": []
  }
 ],
 "metadata": {
  "kernelspec": {
   "display_name": "Python 3 (ipykernel)",
   "language": "python",
   "name": "python3"
  },
  "language_info": {
   "codemirror_mode": {
    "name": "ipython",
    "version": 3
   },
   "file_extension": ".py",
   "mimetype": "text/x-python",
   "name": "python",
   "nbconvert_exporter": "python",
   "pygments_lexer": "ipython3",
   "version": "3.12.7"
  }
 },
 "nbformat": 4,
 "nbformat_minor": 5
}
