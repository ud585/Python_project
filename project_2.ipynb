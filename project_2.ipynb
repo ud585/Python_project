{
 "cells": [
  {
   "cell_type": "code",
   "execution_count": 3,
   "id": "7e991b6d-ff81-434c-8f34-2fd50c0d7a5d",
   "metadata": {},
   "outputs": [
    {
     "name": "stdin",
     "output_type": "stream",
     "text": [
      "Enter the number to start the countdown from:  6\n"
     ]
    },
    {
     "name": "stdout",
     "output_type": "stream",
     "text": [
      "6\n",
      "5\n",
      "4\n",
      "3\n",
      "2\n",
      "1\n",
      "Countdown Complete!\n"
     ]
    }
   ],
   "source": [
    "# Countdown Timer\n",
    "import time\n",
    "\n",
    "# Get the user input for countdown start\n",
    "start = int(input(\"Enter the number to start the countdown from: \"))\n",
    "\n",
    "# Countdown using a While loop\n",
    "while start > 0:\n",
    "    print(start)\n",
    "    time.sleep(1)\n",
    "    start -= 1\n",
    "\n",
    "# Print the Final Message\n",
    "print(\"Countdown Complete!\")"
   ]
  },
  {
   "cell_type": "code",
   "execution_count": null,
   "id": "33b320fa-353d-4591-b98d-4c1e3979604b",
   "metadata": {},
   "outputs": [],
   "source": []
  }
 ],
 "metadata": {
  "kernelspec": {
   "display_name": "Python 3 (ipykernel)",
   "language": "python",
   "name": "python3"
  },
  "language_info": {
   "codemirror_mode": {
    "name": "ipython",
    "version": 3
   },
   "file_extension": ".py",
   "mimetype": "text/x-python",
   "name": "python",
   "nbconvert_exporter": "python",
   "pygments_lexer": "ipython3",
   "version": "3.12.7"
  }
 },
 "nbformat": 4,
 "nbformat_minor": 5
}
