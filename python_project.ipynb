{
 "cells": [
  {
   "cell_type": "code",
   "execution_count": 1,
   "id": "d450fa41-1847-4f69-ba6d-c64cb43f4599",
   "metadata": {},
   "outputs": [
    {
     "name": "stdout",
     "output_type": "stream",
     "text": [
      "\n",
      "===Contact Book Menu===\n",
      "1. Add Contact\n",
      "2. View Contact\n",
      "3. Edit Contact\n",
      "4. Delete Contact\n",
      "5. Search Contact\n",
      "6. Exit\n"
     ]
    },
    {
     "name": "stdin",
     "output_type": "stream",
     "text": [
      "Enter your choice(1-5): 6\n"
     ]
    },
    {
     "name": "stdout",
     "output_type": "stream",
     "text": [
      "Good bye...closing the program\n"
     ]
    }
   ],
   "source": [
    "Contacts = {}\n",
    "\n",
    "while True:\n",
    "    print('\\n===Contact Book Menu===')\n",
    "    print(\"1. Add Contact\")\n",
    "    print(\"2. View Contact\")\n",
    "    print(\"3. Edit Contact\")\n",
    "    print(\"4. Delete Contact\")\n",
    "    print(\"5. Search Contact\")   \n",
    "    print(\"6. Exit\")\n",
    "    \n",
    "    Choice = input('Enter your choice(1-5):')\n",
    "    \n",
    "    if Choice == '1':\n",
    "        name = input('Enter your name:')\n",
    "        if name in Contacts:\n",
    "            print(f\"Contact name {name} already exists!\")\n",
    "        else:\n",
    "            mobile = input('Enter phone:')\n",
    "            email = input('Enter your email:')\n",
    "            Contacts[name] = {'Mobile':mobile, 'Email':email}\n",
    "            print(f'contact name {name} has been added successfully!')\n",
    "            \n",
    "    elif Choice == '2':   \n",
    "        name = input ('Enter contact name to view=')\n",
    "        if name in Contacts:\n",
    "            contact = Contacts[name]           \n",
    "            print(f'Name:{name}, Mobile:{mobile}, Email:{email}')\n",
    "        else:\n",
    "            print('Contact not found!')\n",
    "            \n",
    "    elif Choice == '3':\n",
    "        name = input('Enter name to edit contact:')\n",
    "        if name in Contacts:\n",
    "            Mobile = input('Enter phone:=')\n",
    "            Email = input('Enter your email:')\n",
    "            Contacts[name] = {'Mobile':mobile, 'Email':email}\n",
    "        else:\n",
    "            print('Contact not found!')\n",
    "            \n",
    "    elif Choice == '4':\n",
    "        name = input('Enter contact name to delete:')\n",
    "        if name in Contacts:\n",
    "            del Contacts[name]\n",
    "            print('Contact name has been deleted successfully!')\n",
    "        else:\n",
    "            print('contact not found!')\n",
    "            \n",
    "    elif Choice == '5':\n",
    "        search_name = input('Enter Contact name to search:')\n",
    "        found = False\n",
    "        for name, Contact in Contacts.items():\n",
    "            if search_name.lower() in name.lower():\n",
    "                print(f'Found - Name:{name}, Mobile:{mobile}, Email:{email}')\n",
    "                found = True\n",
    "        if not Found:\n",
    "            print('No contact found with that name')\n",
    "            \n",
    "    elif Choice == '6':\n",
    "        print('Good bye...closing the program')\n",
    "        break\n",
    "    else:\n",
    "        print('Invalid choice. Please select from 1-6.')"
   ]
  },
  {
   "cell_type": "code",
   "execution_count": null,
   "id": "8728c51c-9893-4d4e-9563-1ab20145dd1f",
   "metadata": {},
   "outputs": [],
   "source": []
  }
 ],
 "metadata": {
  "kernelspec": {
   "display_name": "Python 3 (ipykernel)",
   "language": "python",
   "name": "python3"
  },
  "language_info": {
   "codemirror_mode": {
    "name": "ipython",
    "version": 3
   },
   "file_extension": ".py",
   "mimetype": "text/x-python",
   "name": "python",
   "nbconvert_exporter": "python",
   "pygments_lexer": "ipython3",
   "version": "3.12.7"
  }
 },
 "nbformat": 4,
 "nbformat_minor": 5
}
